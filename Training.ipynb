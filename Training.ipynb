{
 "cells": [
  {
   "cell_type": "code",
   "execution_count": 1,
   "metadata": {},
   "outputs": [],
   "source": [
    "import pandas as pd\n",
    "data=pd.read_csv(\"training_cleaned_na.csv\")\n",
    "Y = data.pop('classLabel').values\n",
    "val=pd.read_csv(\"val_cleaned_na.csv\")\n",
    "y_true= val.pop('classLabel').values"
   ]
  },
  {
   "cell_type": "code",
   "execution_count": 2,
   "metadata": {},
   "outputs": [],
   "source": [
    "#replace na values with the highest occuring class or median\n",
    "replace={}\n",
    "for column in data.columns:\n",
    "    if data[column].dtype == type(object):\n",
    "        replace[column] = data[column].value_counts().index[0]\n",
    "    else:\n",
    "        replace[column] = data[column].median()\n",
    "        \n",
    "def fillna(data):\n",
    "    for column in data.columns:\n",
    "        if data[column].dtype == type(object):\n",
    "            data[column] = data[column].fillna(replace[column])\n",
    "        else:\n",
    "            data[column] = data[column].fillna(replace[column])\n",
    "    return\n",
    "fillna(data)\n",
    "fillna(val)"
   ]
  },
  {
   "cell_type": "code",
   "execution_count": 3,
   "metadata": {},
   "outputs": [],
   "source": [
    "#fit a labelling function for categorical data\n",
    "from sklearn import preprocessing as pre\n",
    "encoders={}\n",
    "for column in data.columns:\n",
    "    if data[column].dtype == type(object):\n",
    "        le = pre.LabelEncoder()\n",
    "        data[column] = le.fit_transform(data[column])\n",
    "        encoders[column]=le"
   ]
  },
  {
   "cell_type": "code",
   "execution_count": 4,
   "metadata": {},
   "outputs": [],
   "source": [
    "def label(data):\n",
    "    for column in data.columns:\n",
    "        if data[column].dtype == type(object):\n",
    "            data[column] = encoders[column].transform(data[column])\n",
    "    return\n",
    "\n",
    "label(val)"
   ]
  },
  {
   "cell_type": "code",
   "execution_count": 5,
   "metadata": {},
   "outputs": [],
   "source": [
    "#train different classifiers to compare them\n",
    "from sklearn import tree\n",
    "X = data.values\n",
    "clf = tree.DecisionTreeClassifier(max_depth=4,min_samples_leaf=15)\n",
    "clf = clf.fit(X, Y)"
   ]
  },
  {
   "cell_type": "code",
   "execution_count": 6,
   "metadata": {},
   "outputs": [
    {
     "name": "stderr",
     "output_type": "stream",
     "text": [
      "/home/amira/anaconda2/envs/py36/lib/python3.6/site-packages/sklearn/tree/export.py:399: DeprecationWarning: out_file can be set to None starting from 0.18. This will be the default in 0.20.\n",
      "  DeprecationWarning)\n"
     ]
    }
   ],
   "source": [
    "tree.export_graphviz(clf) "
   ]
  },
  {
   "cell_type": "code",
   "execution_count": 7,
   "metadata": {},
   "outputs": [],
   "source": [
    "#choose a subset of features for the classifier\n",
    "#using all features will reault in a low accuracy\n",
    "from sklearn.feature_selection import SelectKBest,f_classif\n",
    "x_new=SelectKBest(f_classif,k=5).fit(data,Y)\n"
   ]
  },
  {
   "cell_type": "code",
   "execution_count": 8,
   "metadata": {},
   "outputs": [],
   "source": [
    "from sklearn.neighbors import KNeighborsClassifier\n",
    "neigh_clf = KNeighborsClassifier(n_neighbors=5)\n",
    "X=x_new.transform(data)\n",
    "neigh_clf.fit(X, Y); "
   ]
  },
  {
   "cell_type": "code",
   "execution_count": 9,
   "metadata": {},
   "outputs": [],
   "source": [
    "from sklearn import svm\n",
    "svm_clf = svm.LinearSVC()\n",
    "X=x_new.transform(data)\n",
    "svm_clf.fit(X, Y) ;"
   ]
  },
  {
   "cell_type": "code",
   "execution_count": 10,
   "metadata": {},
   "outputs": [],
   "source": [
    "from sklearn.naive_bayes import GaussianNB\n",
    "nb_clf = GaussianNB()\n",
    "X=x_new.transform(data)\n",
    "nb_clf.fit(X, Y); "
   ]
  },
  {
   "cell_type": "code",
   "execution_count": 11,
   "metadata": {},
   "outputs": [],
   "source": [
    "from sklearn.linear_model import LogisticRegression\n",
    "lr_clf=LogisticRegression()\n",
    "lr_clf.fit(X, Y); "
   ]
  },
  {
   "cell_type": "code",
   "execution_count": 12,
   "metadata": {},
   "outputs": [
    {
     "name": "stdout",
     "output_type": "stream",
     "text": [
      "0.89\n",
      "0.8714285714285714\n"
     ]
    }
   ],
   "source": [
    "#We will compare using accuracy.The data is balanced and there is no signfigance for false positives or false negatives\n",
    "#Therefore accuracy is suffcient for this task\n",
    "from sklearn import metrics as m\n",
    "y_pred=clf.predict(val)\n",
    "print(m.accuracy_score(y_true,y_pred))\n",
    "print(m.accuracy_score(Y,clf.predict(data)))"
   ]
  },
  {
   "cell_type": "code",
   "execution_count": 13,
   "metadata": {},
   "outputs": [
    {
     "name": "stdout",
     "output_type": "stream",
     "text": [
      "0.815\n",
      "0.8836734693877552\n"
     ]
    }
   ],
   "source": [
    "y_pred=neigh_clf.predict(x_new.transform(val))\n",
    "print(m.accuracy_score(y_true,y_pred))\n",
    "print(m.accuracy_score(Y,neigh_clf.predict(x_new.transform(data))))"
   ]
  },
  {
   "cell_type": "code",
   "execution_count": 14,
   "metadata": {},
   "outputs": [
    {
     "name": "stdout",
     "output_type": "stream",
     "text": [
      "0.85\n",
      "0.8571428571428571\n"
     ]
    }
   ],
   "source": [
    "y_pred=svm_clf.predict(x_new.transform(val))\n",
    "print(m.accuracy_score(y_true,y_pred))\n",
    "print(m.accuracy_score(Y,svm_clf.predict(X)))"
   ]
  },
  {
   "cell_type": "code",
   "execution_count": 15,
   "metadata": {},
   "outputs": [
    {
     "name": "stdout",
     "output_type": "stream",
     "text": [
      "0.87\n",
      "0.8510204081632653\n"
     ]
    }
   ],
   "source": [
    "y_pred=nb_clf.predict(x_new.transform(val))\n",
    "print(m.accuracy_score(y_true,y_pred))\n",
    "print(m.accuracy_score(Y,nb_clf.predict(X)))"
   ]
  },
  {
   "cell_type": "code",
   "execution_count": 16,
   "metadata": {},
   "outputs": [
    {
     "name": "stdout",
     "output_type": "stream",
     "text": [
      "0.86\n",
      "0.8551020408163266\n"
     ]
    }
   ],
   "source": [
    "y_pred=lr_clf.predict(x_new.transform(val))\n",
    "print(m.accuracy_score(y_true,y_pred))\n",
    "print(m.accuracy_score(Y,lr_clf.predict(X)))"
   ]
  },
  {
   "cell_type": "code",
   "execution_count": 17,
   "metadata": {},
   "outputs": [],
   "source": [
    "#The best model is the decision tree classifier\n",
    "def predict(input_data):\n",
    "    input_data=input_data.drop(columns=\"variable18\")\n",
    "    input_data=input_data.drop(columns=\"variable17\")\n",
    "    input_data=input_data.drop(columns=\"variable19\")\n",
    "    input_data=input_data.drop(columns=\"variable4\")\n",
    "    input_data=input_data.drop(columns=\"variable11\")\n",
    "    fillna(input_data)\n",
    "    label(input_data)\n",
    "    return clf.predict(input_data)"
   ]
  }
 ],
 "metadata": {
  "kernelspec": {
   "display_name": "Python 3",
   "language": "python",
   "name": "python3"
  },
  "language_info": {
   "codemirror_mode": {
    "name": "ipython",
    "version": 3
   },
   "file_extension": ".py",
   "mimetype": "text/x-python",
   "name": "python",
   "nbconvert_exporter": "python",
   "pygments_lexer": "ipython3",
   "version": "3.6.8"
  }
 },
 "nbformat": 4,
 "nbformat_minor": 2
}
