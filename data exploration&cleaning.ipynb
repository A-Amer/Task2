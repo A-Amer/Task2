{
 "cells": [
  {
   "cell_type": "code",
   "execution_count": 18,
   "metadata": {},
   "outputs": [
    {
     "data": {
      "text/html": [
       "<div>\n",
       "<style scoped>\n",
       "    .dataframe tbody tr th:only-of-type {\n",
       "        vertical-align: middle;\n",
       "    }\n",
       "\n",
       "    .dataframe tbody tr th {\n",
       "        vertical-align: top;\n",
       "    }\n",
       "\n",
       "    .dataframe thead th {\n",
       "        text-align: right;\n",
       "    }\n",
       "</style>\n",
       "<table border=\"1\" class=\"dataframe\">\n",
       "  <thead>\n",
       "    <tr style=\"text-align: right;\">\n",
       "      <th></th>\n",
       "      <th>variable1</th>\n",
       "      <th>variable2</th>\n",
       "      <th>variable3</th>\n",
       "      <th>variable4</th>\n",
       "      <th>variable5</th>\n",
       "      <th>variable6</th>\n",
       "      <th>variable7</th>\n",
       "      <th>variable8</th>\n",
       "      <th>variable9</th>\n",
       "      <th>variable10</th>\n",
       "      <th>variable11</th>\n",
       "      <th>variable12</th>\n",
       "      <th>variable13</th>\n",
       "      <th>variable14</th>\n",
       "      <th>variable15</th>\n",
       "      <th>variable17</th>\n",
       "      <th>variable18</th>\n",
       "      <th>variable19</th>\n",
       "      <th>classLabel</th>\n",
       "    </tr>\n",
       "  </thead>\n",
       "  <tbody>\n",
       "    <tr>\n",
       "      <th>0</th>\n",
       "      <td>a</td>\n",
       "      <td>17.92</td>\n",
       "      <td>0.000054</td>\n",
       "      <td>u</td>\n",
       "      <td>g</td>\n",
       "      <td>c</td>\n",
       "      <td>v</td>\n",
       "      <td>1.750</td>\n",
       "      <td>f</td>\n",
       "      <td>t</td>\n",
       "      <td>1</td>\n",
       "      <td>t</td>\n",
       "      <td>g</td>\n",
       "      <td>80.0</td>\n",
       "      <td>5</td>\n",
       "      <td>800000.0</td>\n",
       "      <td>t</td>\n",
       "      <td>0</td>\n",
       "      <td>no.</td>\n",
       "    </tr>\n",
       "    <tr>\n",
       "      <th>1</th>\n",
       "      <td>b</td>\n",
       "      <td>16.92</td>\n",
       "      <td>0.000034</td>\n",
       "      <td>y</td>\n",
       "      <td>p</td>\n",
       "      <td>k</td>\n",
       "      <td>v</td>\n",
       "      <td>0.290</td>\n",
       "      <td>f</td>\n",
       "      <td>f</td>\n",
       "      <td>0</td>\n",
       "      <td>f</td>\n",
       "      <td>s</td>\n",
       "      <td>200.0</td>\n",
       "      <td>0</td>\n",
       "      <td>2000000.0</td>\n",
       "      <td>NaN</td>\n",
       "      <td>0</td>\n",
       "      <td>no.</td>\n",
       "    </tr>\n",
       "    <tr>\n",
       "      <th>2</th>\n",
       "      <td>b</td>\n",
       "      <td>31.25</td>\n",
       "      <td>0.000112</td>\n",
       "      <td>u</td>\n",
       "      <td>g</td>\n",
       "      <td>ff</td>\n",
       "      <td>ff</td>\n",
       "      <td>0.000</td>\n",
       "      <td>f</td>\n",
       "      <td>t</td>\n",
       "      <td>1</td>\n",
       "      <td>f</td>\n",
       "      <td>g</td>\n",
       "      <td>96.0</td>\n",
       "      <td>19</td>\n",
       "      <td>960000.0</td>\n",
       "      <td>t</td>\n",
       "      <td>0</td>\n",
       "      <td>no.</td>\n",
       "    </tr>\n",
       "    <tr>\n",
       "      <th>3</th>\n",
       "      <td>a</td>\n",
       "      <td>48.17</td>\n",
       "      <td>0.000133</td>\n",
       "      <td>u</td>\n",
       "      <td>g</td>\n",
       "      <td>i</td>\n",
       "      <td>o</td>\n",
       "      <td>0.335</td>\n",
       "      <td>f</td>\n",
       "      <td>f</td>\n",
       "      <td>0</td>\n",
       "      <td>f</td>\n",
       "      <td>g</td>\n",
       "      <td>0.0</td>\n",
       "      <td>120</td>\n",
       "      <td>0.0</td>\n",
       "      <td>NaN</td>\n",
       "      <td>0</td>\n",
       "      <td>no.</td>\n",
       "    </tr>\n",
       "    <tr>\n",
       "      <th>4</th>\n",
       "      <td>b</td>\n",
       "      <td>32.33</td>\n",
       "      <td>0.000350</td>\n",
       "      <td>u</td>\n",
       "      <td>g</td>\n",
       "      <td>k</td>\n",
       "      <td>v</td>\n",
       "      <td>0.500</td>\n",
       "      <td>f</td>\n",
       "      <td>f</td>\n",
       "      <td>0</td>\n",
       "      <td>t</td>\n",
       "      <td>g</td>\n",
       "      <td>232.0</td>\n",
       "      <td>0</td>\n",
       "      <td>2320000.0</td>\n",
       "      <td>f</td>\n",
       "      <td>0</td>\n",
       "      <td>no.</td>\n",
       "    </tr>\n",
       "    <tr>\n",
       "      <th>5</th>\n",
       "      <td>a</td>\n",
       "      <td>34.83</td>\n",
       "      <td>0.000125</td>\n",
       "      <td>y</td>\n",
       "      <td>p</td>\n",
       "      <td>i</td>\n",
       "      <td>h</td>\n",
       "      <td>0.500</td>\n",
       "      <td>f</td>\n",
       "      <td>f</td>\n",
       "      <td>0</td>\n",
       "      <td>t</td>\n",
       "      <td>g</td>\n",
       "      <td>160.0</td>\n",
       "      <td>0</td>\n",
       "      <td>1600000.0</td>\n",
       "      <td>f</td>\n",
       "      <td>0</td>\n",
       "      <td>no.</td>\n",
       "    </tr>\n",
       "    <tr>\n",
       "      <th>6</th>\n",
       "      <td>a</td>\n",
       "      <td>26.17</td>\n",
       "      <td>0.000200</td>\n",
       "      <td>u</td>\n",
       "      <td>g</td>\n",
       "      <td>j</td>\n",
       "      <td>j</td>\n",
       "      <td>0.000</td>\n",
       "      <td>f</td>\n",
       "      <td>f</td>\n",
       "      <td>0</td>\n",
       "      <td>t</td>\n",
       "      <td>g</td>\n",
       "      <td>276.0</td>\n",
       "      <td>1</td>\n",
       "      <td>2760000.0</td>\n",
       "      <td>NaN</td>\n",
       "      <td>0</td>\n",
       "      <td>no.</td>\n",
       "    </tr>\n",
       "    <tr>\n",
       "      <th>7</th>\n",
       "      <td>b</td>\n",
       "      <td>21.17</td>\n",
       "      <td>0.000087</td>\n",
       "      <td>y</td>\n",
       "      <td>p</td>\n",
       "      <td>c</td>\n",
       "      <td>h</td>\n",
       "      <td>0.250</td>\n",
       "      <td>f</td>\n",
       "      <td>f</td>\n",
       "      <td>0</td>\n",
       "      <td>f</td>\n",
       "      <td>g</td>\n",
       "      <td>280.0</td>\n",
       "      <td>204</td>\n",
       "      <td>2800000.0</td>\n",
       "      <td>NaN</td>\n",
       "      <td>0</td>\n",
       "      <td>no.</td>\n",
       "    </tr>\n",
       "    <tr>\n",
       "      <th>8</th>\n",
       "      <td>b</td>\n",
       "      <td>28.92</td>\n",
       "      <td>0.000037</td>\n",
       "      <td>u</td>\n",
       "      <td>g</td>\n",
       "      <td>c</td>\n",
       "      <td>v</td>\n",
       "      <td>0.290</td>\n",
       "      <td>f</td>\n",
       "      <td>f</td>\n",
       "      <td>0</td>\n",
       "      <td>f</td>\n",
       "      <td>g</td>\n",
       "      <td>220.0</td>\n",
       "      <td>140</td>\n",
       "      <td>2200000.0</td>\n",
       "      <td>NaN</td>\n",
       "      <td>0</td>\n",
       "      <td>no.</td>\n",
       "    </tr>\n",
       "    <tr>\n",
       "      <th>9</th>\n",
       "      <td>b</td>\n",
       "      <td>18.17</td>\n",
       "      <td>0.001025</td>\n",
       "      <td>u</td>\n",
       "      <td>g</td>\n",
       "      <td>c</td>\n",
       "      <td>h</td>\n",
       "      <td>1.085</td>\n",
       "      <td>f</td>\n",
       "      <td>f</td>\n",
       "      <td>0</td>\n",
       "      <td>f</td>\n",
       "      <td>g</td>\n",
       "      <td>320.0</td>\n",
       "      <td>13</td>\n",
       "      <td>3200000.0</td>\n",
       "      <td>NaN</td>\n",
       "      <td>0</td>\n",
       "      <td>no.</td>\n",
       "    </tr>\n",
       "  </tbody>\n",
       "</table>\n",
       "</div>"
      ],
      "text/plain": [
       "  variable1  variable2  variable3 variable4 variable5 variable6 variable7  \\\n",
       "0         a      17.92   0.000054         u         g         c         v   \n",
       "1         b      16.92   0.000034         y         p         k         v   \n",
       "2         b      31.25   0.000112         u         g        ff        ff   \n",
       "3         a      48.17   0.000133         u         g         i         o   \n",
       "4         b      32.33   0.000350         u         g         k         v   \n",
       "5         a      34.83   0.000125         y         p         i         h   \n",
       "6         a      26.17   0.000200         u         g         j         j   \n",
       "7         b      21.17   0.000087         y         p         c         h   \n",
       "8         b      28.92   0.000037         u         g         c         v   \n",
       "9         b      18.17   0.001025         u         g         c         h   \n",
       "\n",
       "   variable8 variable9 variable10  variable11 variable12 variable13  \\\n",
       "0      1.750         f          t           1          t          g   \n",
       "1      0.290         f          f           0          f          s   \n",
       "2      0.000         f          t           1          f          g   \n",
       "3      0.335         f          f           0          f          g   \n",
       "4      0.500         f          f           0          t          g   \n",
       "5      0.500         f          f           0          t          g   \n",
       "6      0.000         f          f           0          t          g   \n",
       "7      0.250         f          f           0          f          g   \n",
       "8      0.290         f          f           0          f          g   \n",
       "9      1.085         f          f           0          f          g   \n",
       "\n",
       "   variable14  variable15  variable17 variable18  variable19 classLabel  \n",
       "0        80.0           5    800000.0          t           0        no.  \n",
       "1       200.0           0   2000000.0        NaN           0        no.  \n",
       "2        96.0          19    960000.0          t           0        no.  \n",
       "3         0.0         120         0.0        NaN           0        no.  \n",
       "4       232.0           0   2320000.0          f           0        no.  \n",
       "5       160.0           0   1600000.0          f           0        no.  \n",
       "6       276.0           1   2760000.0        NaN           0        no.  \n",
       "7       280.0         204   2800000.0        NaN           0        no.  \n",
       "8       220.0         140   2200000.0        NaN           0        no.  \n",
       "9       320.0          13   3200000.0        NaN           0        no.  "
      ]
     },
     "execution_count": 18,
     "metadata": {},
     "output_type": "execute_result"
    }
   ],
   "source": [
    "import pandas as pd\n",
    "#read data\n",
    "data=pd.read_csv(\"training.csv\",sep=\";\",decimal=',')\n",
    "val=pd.read_csv(\"validation.csv\",sep=\";\",decimal=',')\n",
    "#data overview\n",
    "data.head(10)"
   ]
  },
  {
   "cell_type": "code",
   "execution_count": 19,
   "metadata": {},
   "outputs": [
    {
     "name": "stdout",
     "output_type": "stream",
     "text": [
      "variable1 2 object\n",
      "variable2 288 float64\n",
      "variable3 179 float64\n",
      "variable4 3 object\n",
      "variable5 3 object\n",
      "variable6 14 object\n",
      "variable7 9 object\n",
      "variable8 118 float64\n",
      "variable9 2 object\n",
      "variable10 2 object\n",
      "variable11 23 int64\n",
      "variable12 2 object\n",
      "variable13 3 object\n",
      "variable14 136 float64\n",
      "variable15 182 int64\n",
      "variable17 136 float64\n",
      "variable18 2 object\n",
      "variable19 2 int64\n",
      "classLabel 2 object\n"
     ]
    }
   ],
   "source": [
    "#see the data types and number of categories in each column\n",
    "for i in data.columns:\n",
    "        print(i+\" \"+str(len(data.groupby([i]).size()))+\" \"+str(data[i].dtype))"
   ]
  },
  {
   "cell_type": "code",
   "execution_count": 21,
   "metadata": {},
   "outputs": [],
   "source": [
    "#all objects and variable 19 are categorical data\n",
    "for i in data.columns:\n",
    "    if data[i].dtype=='O' or i=='variable19':\n",
    "        data[i] = data[i].astype('category')\n",
    "        val[i]=val[i].astype('category')\n"
   ]
  },
  {
   "cell_type": "code",
   "execution_count": 4,
   "metadata": {},
   "outputs": [
    {
     "name": "stdout",
     "output_type": "stream",
     "text": [
      "variable1      98.945946\n",
      "variable2      98.945946\n",
      "variable3     100.000000\n",
      "variable4      98.270270\n",
      "variable5      98.270270\n",
      "variable6      98.216216\n",
      "variable7      98.216216\n",
      "variable8     100.000000\n",
      "variable9     100.000000\n",
      "variable10    100.000000\n",
      "variable11    100.000000\n",
      "variable12    100.000000\n",
      "variable13    100.000000\n",
      "variable14     97.297297\n",
      "variable15    100.000000\n",
      "variable17     97.297297\n",
      "variable18     42.027027\n",
      "variable19    100.000000\n",
      "classLabel    100.000000\n",
      "dtype: float64\n"
     ]
    }
   ],
   "source": [
    "#Calculate the percentage of rows that are valid (not NA) in each column\n",
    "print((data.count()/data.shape[0])*100)"
   ]
  },
  {
   "cell_type": "code",
   "execution_count": 22,
   "metadata": {},
   "outputs": [
    {
     "data": {
      "text/plain": [
       "<matplotlib.axes._subplots.AxesSubplot at 0x7f60db9e7b00>"
      ]
     },
     "execution_count": 22,
     "metadata": {},
     "output_type": "execute_result"
    },
    {
     "data": {
      "image/png": "[encoded data removed]",
      "text/plain": [
       "<Figure size 432x288 with 2 Axes>"
      ]
     },
     "metadata": {
      "needs_background": "light"
     },
     "output_type": "display_data"
    }
   ],
   "source": [
    "import seaborn as sns\n",
    "import matplotlib.pyplot as plt\n",
    "df=data.copy()\n",
    "for i in df.columns:\n",
    "    if str(df[i].dtype) =='category':\n",
    "        df[i] = df[i].astype('category').cat.codes\n",
    "sns.heatmap(df.corr()[df.corr()>0.85])\n",
    "#The graph shows a perfect correlation between \n",
    "#1-variable 17 and 14\n",
    "#2-variable 19 and target variable"
   ]
  },
  {
   "cell_type": "code",
   "execution_count": 6,
   "metadata": {},
   "outputs": [
    {
     "data": {
      "text/plain": [
       "-0.010024590406736408"
      ]
     },
     "execution_count": 6,
     "metadata": {},
     "output_type": "execute_result"
    }
   ],
   "source": [
    "#if variable 19 has a high correlation with the target also in the validation set then we can use only variable 19\n",
    "#for direct prediction of target \n",
    "df=val.copy()\n",
    "for i in df.columns:\n",
    "    if str(df[i].dtype) =='category':\n",
    "        df[i] = df[i].astype('category').cat.codes\n",
    "\n",
    "df[df.columns[-2]].corr(df[df.columns[-1]])"
   ]
  },
  {
   "cell_type": "code",
   "execution_count": 7,
   "metadata": {},
   "outputs": [],
   "source": [
    "#remove variable 18 as it has a high percentage of NA \n",
    "data=data.drop(columns=\"variable18\")\n",
    "val=val.drop(columns=\"variable18\")\n",
    "#remove column 17 as it has a large scale and perfectly correlates with variable 14\n",
    "data=data.drop(columns=\"variable17\")\n",
    "val=val.drop(columns=\"variable17\")\n",
    "#Remove variable 19 as it will mess up the model\n",
    "data=data.drop(columns=\"variable19\")\n",
    "val=val.drop(columns=\"variable19\")\n"
   ]
  },
  {
   "cell_type": "code",
   "execution_count": 8,
   "metadata": {},
   "outputs": [
    {
     "name": "stdout",
     "output_type": "stream",
     "text": [
      "classLabel\n",
      "no.      276\n",
      "yes.    3424\n",
      "dtype: int64\n",
      "classLabel\n",
      "no.     107\n",
      "yes.     93\n",
      "dtype: int64\n"
     ]
    }
   ],
   "source": [
    "#check for data mismatch\n",
    "print(data.groupby(['classLabel']).size())\n",
    "print(val.groupby(['classLabel']).size())"
   ]
  },
  {
   "cell_type": "code",
   "execution_count": 9,
   "metadata": {},
   "outputs": [],
   "source": [
    "#remove duplicate data from training set\n",
    "data=data.drop_duplicates()"
   ]
  },
  {
   "cell_type": "code",
   "execution_count": 10,
   "metadata": {},
   "outputs": [
    {
     "name": "stdout",
     "output_type": "stream",
     "text": [
      "classLabel\n",
      "no.     276\n",
      "yes.    214\n",
      "dtype: int64\n",
      "classLabel\n",
      "no.     107\n",
      "yes.     93\n",
      "dtype: int64\n"
     ]
    }
   ],
   "source": [
    "#check for data mismatch\n",
    "print(data.groupby(['classLabel']).size())\n",
    "print(val.groupby(['classLabel']).size())\n",
    "#This shows that dat was duplicated for the yes class about 16 times"
   ]
  },
  {
   "cell_type": "code",
   "execution_count": 11,
   "metadata": {},
   "outputs": [
    {
     "data": {
      "text/plain": [
       "<matplotlib.axes._subplots.AxesSubplot at 0x7f60dc0a07b8>"
      ]
     },
     "execution_count": 11,
     "metadata": {},
     "output_type": "execute_result"
    },
    {
     "data": {
      "image/png": "[encoded data removed]",
      "text/plain": [
       "<Figure size 432x288 with 2 Axes>"
      ]
     },
     "metadata": {
      "needs_background": "light"
     },
     "output_type": "display_data"
    }
   ],
   "source": [
    "df=data.copy()\n",
    "for i in df.columns:\n",
    "    if str(df[i].dtype) =='category':\n",
    "        df[i] = df[i].astype('category').cat.codes\n",
    "sns.heatmap(df.corr()[df.corr()>0.9])"
   ]
  },
  {
   "cell_type": "code",
   "execution_count": 12,
   "metadata": {},
   "outputs": [],
   "source": [
    "#Remove variable 4 as it is highly correlated with variable 5\n",
    "data=data.drop(columns=\"variable4\")\n",
    "val=val.drop(columns=\"variable4\")"
   ]
  },
  {
   "cell_type": "code",
   "execution_count": 13,
   "metadata": {},
   "outputs": [
    {
     "name": "stdout",
     "output_type": "stream",
     "text": [
      "variable2\n",
      "0.8795918367346939\n",
      "variable3\n",
      "0.8938775510204081\n",
      "variable8\n",
      "0.826530612244898\n",
      "variable11\n",
      "0.336734693877551\n",
      "variable14\n",
      "0.726530612244898\n",
      "variable15\n",
      "0.5265306122448979\n"
     ]
    }
   ],
   "source": [
    "#check the percentage of outliers in columns\n",
    "for i in data.columns:\n",
    "    if str(data[i].dtype) !='category':\n",
    "            upper_lim = data[i].quantile(.95)\n",
    "            lower_lim = data[i].quantile(.05)\n",
    "            print(i)\n",
    "            print(len(data[(data[i] < upper_lim) & (data[i] > lower_lim)])/len(data[i]))"
   ]
  },
  {
   "cell_type": "code",
   "execution_count": 14,
   "metadata": {},
   "outputs": [],
   "source": [
    "#Remove variable 11 as it has a large percentage of outliers\n",
    "data=data.drop(columns=\"variable11\")\n",
    "val=val.drop(columns=\"variable11\")"
   ]
  },
  {
   "cell_type": "code",
   "execution_count": 15,
   "metadata": {},
   "outputs": [],
   "source": [
    "data.to_csv(\"training_cleaned_na.csv\",index=False)\n",
    "val.to_csv(\"val_cleaned_na.csv\",index=False)"
   ]
  },
  {
   "cell_type": "code",
   "execution_count": 16,
   "metadata": {},
   "outputs": [
    {
     "name": "stdout",
     "output_type": "stream",
     "text": [
      "variable1      98.163265\n",
      "variable2      98.163265\n",
      "variable3     100.000000\n",
      "variable5      99.183673\n",
      "variable6      98.775510\n",
      "variable7      98.775510\n",
      "variable8     100.000000\n",
      "variable9     100.000000\n",
      "variable10    100.000000\n",
      "variable12    100.000000\n",
      "variable13    100.000000\n",
      "variable14     97.959184\n",
      "variable15    100.000000\n",
      "classLabel    100.000000\n",
      "dtype: float64\n"
     ]
    }
   ],
   "source": [
    "print((data.count()/data.shape[0])*100)"
   ]
  },
  {
   "cell_type": "code",
   "execution_count": 17,
   "metadata": {},
   "outputs": [
    {
     "data": {
      "text/plain": [
       "<matplotlib.axes._subplots.AxesSubplot at 0x7f60dbb19ef0>"
      ]
     },
     "execution_count": 17,
     "metadata": {},
     "output_type": "execute_result"
    },
    {
     "data": {
      "image/png": "[encoded data removed]",
      "text/plain": [
       "<Figure size 432x288 with 2 Axes>"
      ]
     },
     "metadata": {
      "needs_background": "light"
     },
     "output_type": "display_data"
    }
   ],
   "source": [
    "df=data.copy()\n",
    "for i in df.columns:\n",
    "    if str(df[i].dtype) =='category':\n",
    "        df[i] = df[i].astype('category').cat.codes\n",
    "sns.heatmap(df.corr()[df.corr()>0.3])"
   ]
  }
 ],
 "metadata": {
  "kernelspec": {
   "display_name": "Python 3",
   "language": "python",
   "name": "python3"
  },
  "language_info": {
   "codemirror_mode": {
    "name": "ipython",
    "version": 3
   },
   "file_extension": ".py",
   "mimetype": "text/x-python",
   "name": "python",
   "nbconvert_exporter": "python",
   "pygments_lexer": "ipython3",
   "version": "3.6.8"
  }
 },
 "nbformat": 4,
 "nbformat_minor": 2
}
